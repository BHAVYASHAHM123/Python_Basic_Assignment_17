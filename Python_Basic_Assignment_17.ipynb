{
  "nbformat": 4,
  "nbformat_minor": 0,
  "metadata": {
    "colab": {
      "name": " Python_Basic_Assignment_17.ipynb",
      "provenance": []
    },
    "kernelspec": {
      "name": "python3",
      "display_name": "Python 3"
    },
    "language_info": {
      "name": "python"
    }
  },
  "cells": [
    {
      "cell_type": "markdown",
      "source": [
        "Q1). Assign the value 7 to the variable guess_me. Then, write the conditional tests (if, else, and elif) to\n",
        "print the string &#39;too low&#39; if guess_me is less than 7, &#39;too high&#39; if greater than 7, and &#39;just right&#39; if equal\n",
        "to 7."
      ],
      "metadata": {
        "id": "Ei9z_qFanq0k"
      }
    },
    {
      "cell_type": "code",
      "source": [
        "guess_me = 7\n",
        "a = int(input(\"Enter a number: \"))\n",
        "\n",
        "if guess_me > a:\n",
        "  print(\"Too Low\")\n",
        "elif guess_me < a:\n",
        "  print(\"Too high\")\n",
        "else:\n",
        "  print(\"Just Right\")"
      ],
      "metadata": {
        "colab": {
          "base_uri": "https://localhost:8080/"
        },
        "id": "CUknA0Ofnuux",
        "outputId": "902eba54-c7a3-4de8-eca4-4c5deb857926"
      },
      "execution_count": 1,
      "outputs": [
        {
          "output_type": "stream",
          "name": "stdout",
          "text": [
            "Enter a number: 7\n",
            "Just Right\n"
          ]
        }
      ]
    },
    {
      "cell_type": "markdown",
      "source": [
        "Q2). Assign the value 7 to the variable guess_me and the value 1 to the variable start. Write a while\n",
        "loop that compares start with guess_me. Print too low if start is less than guess me. If start equals\n",
        "guess_me, print &#39;found it!&#39; and exit the loop. If start is greater than guess_me, print &#39;oops&#39; and exit\n",
        "the loop. Increment start at the end of the loop."
      ],
      "metadata": {
        "id": "mtOtnmp5EB3i"
      }
    },
    {
      "cell_type": "code",
      "source": [
        "guess_me = 7\n",
        "start = 1\n",
        "\n",
        "while start < guess_me:\n",
        "  print(\"too low\")\n",
        "  if start == guess_me:\n",
        "    print(\"found it\")\n",
        "    break\n",
        "  start += 1\n"
      ],
      "metadata": {
        "colab": {
          "base_uri": "https://localhost:8080/"
        },
        "id": "j0LOyb9gEFjN",
        "outputId": "d1d31738-ae82-44ec-b68f-a8aad2af421e"
      },
      "execution_count": 2,
      "outputs": [
        {
          "output_type": "stream",
          "name": "stdout",
          "text": [
            "too low\n",
            "too low\n",
            "too low\n",
            "too low\n",
            "too low\n",
            "too low\n"
          ]
        }
      ]
    },
    {
      "cell_type": "markdown",
      "source": [
        "Q3) Print the following values of the list [3, 2, 1, 0] using a for loop."
      ],
      "metadata": {
        "id": "nfVCYYilnQnK"
      }
    },
    {
      "cell_type": "code",
      "source": [
        "l = [3,2,1,0]\n",
        " \n",
        "for i in l:\n",
        "  print(i)"
      ],
      "metadata": {
        "colab": {
          "base_uri": "https://localhost:8080/"
        },
        "id": "4ESUwC63nTod",
        "outputId": "1ebafe8a-2d8a-4f8f-cb62-23cc8eea1de4"
      },
      "execution_count": 3,
      "outputs": [
        {
          "output_type": "stream",
          "name": "stdout",
          "text": [
            "3\n",
            "2\n",
            "1\n",
            "0\n"
          ]
        }
      ]
    },
    {
      "cell_type": "markdown",
      "source": [
        "Q4) Use a list comprehension to make a list of the even numbers in range(10)"
      ],
      "metadata": {
        "id": "kipTtEfGnhvz"
      }
    },
    {
      "cell_type": "code",
      "source": [
        "l = [1,2,3,4,5,6,7,8,9,10]\n",
        "\n",
        "for a in l :\n",
        "  if a % 2 == 0:\n",
        "    print(a)"
      ],
      "metadata": {
        "colab": {
          "base_uri": "https://localhost:8080/"
        },
        "id": "ZI_9P_Z7Iemu",
        "outputId": "5ab3b03a-8842-4fae-ac4b-7cb9e2d772c4"
      },
      "execution_count": 4,
      "outputs": [
        {
          "output_type": "stream",
          "name": "stdout",
          "text": [
            "2\n",
            "4\n",
            "6\n",
            "8\n",
            "10\n"
          ]
        }
      ]
    },
    {
      "cell_type": "markdown",
      "source": [
        "Q5). Use a dictionary comprehension to create the dictionary squares. Use range(10) to return the keys, and use the square of each key as its value."
      ],
      "metadata": {
        "id": "9lUsCpRunhsZ"
      }
    },
    {
      "cell_type": "code",
      "source": [
        "d=dict()\n",
        "for x in range(1,11):\n",
        "    d[x]=x**2\n",
        "print(d) "
      ],
      "metadata": {
        "id": "5JuKejqqOl1P",
        "outputId": "73f664af-74d1-4c6d-da5d-137e5bd4c0e0",
        "colab": {
          "base_uri": "https://localhost:8080/"
        }
      },
      "execution_count": 5,
      "outputs": [
        {
          "output_type": "stream",
          "name": "stdout",
          "text": [
            "{1: 1, 2: 4, 3: 9, 4: 16, 5: 25, 6: 36, 7: 49, 8: 64, 9: 81, 10: 100}\n"
          ]
        }
      ]
    },
    {
      "cell_type": "markdown",
      "source": [
        "Q6). Construct the set odd from the odd numbers in the range using a set comprehension (10)."
      ],
      "metadata": {
        "id": "o8wQSVHrJnZv"
      }
    },
    {
      "cell_type": "code",
      "execution_count": 6,
      "metadata": {
        "id": "yGyy5rYVm_jx",
        "colab": {
          "base_uri": "https://localhost:8080/"
        },
        "outputId": "f121d1d6-4cfe-463a-f25e-db778e10d1d4"
      },
      "outputs": [
        {
          "output_type": "stream",
          "name": "stdout",
          "text": [
            "{ 1 }\n",
            "{ 3 }\n",
            "{ 5 }\n",
            "{ 7 }\n",
            "{ 9 }\n"
          ]
        }
      ],
      "source": [
        "for x in range(1, 11):\n",
        "  if x%2!= 0:\n",
        "    print(\"{\", x, \"}\") "
      ]
    },
    {
      "cell_type": "markdown",
      "source": [
        "Q7. Use a generator comprehension to return the string 'Got' and a number for the numbers in range(10). Iterate through this by using a for loop.\n",
        "\n"
      ],
      "metadata": {
        "id": "ZWsbMX1hMjJS"
      }
    },
    {
      "cell_type": "markdown",
      "source": [
        "Q8). Define a function called good that returns the list ['Harry', 'Ron', 'Hermione'].\n"
      ],
      "metadata": {
        "id": "GJ-KIFapNWPG"
      }
    },
    {
      "cell_type": "code",
      "source": [
        "l = ['Harry', 'Ron', 'Hermione']\n",
        "\n",
        "def List():\n",
        "  list = []\n",
        "  for i in l():\n",
        "    list.append(i)\n",
        "    return list\n",
        "a = list()\n",
        "print(a)"
      ],
      "metadata": {
        "colab": {
          "base_uri": "https://localhost:8080/"
        },
        "id": "iXZwE5AiLppK",
        "outputId": "240cf3f9-bf76-486d-b368-42eda3d67912"
      },
      "execution_count": 7,
      "outputs": [
        {
          "output_type": "stream",
          "name": "stdout",
          "text": [
            "[]\n"
          ]
        }
      ]
    },
    {
      "cell_type": "markdown",
      "source": [
        "Q9. Define a generator function called get_odds that returns the odd numbers from range(10). Use a for loop to find and print the third value returned."
      ],
      "metadata": {
        "id": "8k27kkHhPGkb"
      }
    },
    {
      "cell_type": "code",
      "source": [
        "def get_odds():\n",
        "  l = [1, 2, 3, 4, 5, 6, 7, 8, 9, 10]\n",
        "  for i in l:\n",
        "    if i%2!=0:\n",
        "      print(i)\n",
        "get_odds()"
      ],
      "metadata": {
        "colab": {
          "base_uri": "https://localhost:8080/"
        },
        "id": "tJLqrBAHOD_9",
        "outputId": "2f30a2a2-69f1-4c75-b295-65f0be9949f2"
      },
      "execution_count": 8,
      "outputs": [
        {
          "output_type": "stream",
          "name": "stdout",
          "text": [
            "1\n",
            "3\n",
            "5\n",
            "7\n",
            "9\n"
          ]
        }
      ]
    },
    {
      "cell_type": "markdown",
      "source": [
        "Q10). Define an exception called OopsException. Raise this exception to see what happens. Then write the code to catch this exception and print '\n",
        "Caught an oops'.\n",
        "\n",
        "Ans) An exception is an event that occurs during the execution of a program that disrupts the normal flow of instructions during the execution of a program.\n",
        "\n"
      ],
      "metadata": {
        "id": "A39q5i8cUUmw"
      }
    },
    {
      "cell_type": "code",
      "source": [
        "l = [1, 3, 5, 7, 9] \n",
        "\n",
        "try:\n",
        "  if l%2==0:\n",
        "    print(\"Even number is: \", l)\n",
        "except:\n",
        "  print(\"Caught an oops\")\n",
        "\n"
      ],
      "metadata": {
        "id": "I-jQRz1oUAtM",
        "colab": {
          "base_uri": "https://localhost:8080/"
        },
        "outputId": "10c01ef6-0a7d-4c23-ce56-436f12518fe1"
      },
      "execution_count": 9,
      "outputs": [
        {
          "output_type": "stream",
          "name": "stdout",
          "text": [
            "Caught an oops\n"
          ]
        }
      ]
    },
    {
      "cell_type": "markdown",
      "source": [
        "Q11). Use zip() to make a dictionary called movies that pairs these lists: titles = ['Creature of Habit','Crewel Fate'] and plots = ['A nun turns into a monster', 'A haunted yarn shop']."
      ],
      "metadata": {
        "id": "_SWF1QfUKNrs"
      }
    },
    {
      "cell_type": "code",
      "source": [
        "name = ['Creature of Habit', 'Crewel Fate']\n",
        "title = ['A nun turns into a monster', 'A haunted yarn shop']\n",
        "a = dict(zip(name, title))\n",
        "print(a)"
      ],
      "metadata": {
        "colab": {
          "base_uri": "https://localhost:8080/"
        },
        "id": "HmjlIFGzI8Gf",
        "outputId": "271bdb77-a7a5-457d-eb96-af628512456c"
      },
      "execution_count": 10,
      "outputs": [
        {
          "output_type": "stream",
          "name": "stdout",
          "text": [
            "{'Creature of Habit': 'A nun turns into a monster', 'Crewel Fate': 'A haunted yarn shop'}\n"
          ]
        }
      ]
    },
    {
      "cell_type": "code",
      "source": [
        ""
      ],
      "metadata": {
        "id": "JcaFOc9zkTfs"
      },
      "execution_count": 10,
      "outputs": []
    }
  ]
}